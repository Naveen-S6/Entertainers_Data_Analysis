{
 "cells": [
  {
   "cell_type": "code",
   "execution_count": 1,
   "id": "f74db9a6",
   "metadata": {},
   "outputs": [
    {
     "name": "stdout",
     "output_type": "stream",
     "text": [
      "Requirement already satisfied: IMDbPY in c:\\users\\91638\\appdata\\local\\programs\\python\\python38\\lib\\site-packages (2022.7.9)\n",
      "Requirement already satisfied: cinemagoer in c:\\users\\91638\\appdata\\local\\programs\\python\\python38\\lib\\site-packages (from IMDbPY) (2022.2.11)\n",
      "Requirement already satisfied: lxml in c:\\users\\91638\\appdata\\local\\programs\\python\\python38\\lib\\site-packages (from cinemagoer->IMDbPY) (4.9.1)\n",
      "Requirement already satisfied: SQLAlchemy in c:\\users\\91638\\appdata\\local\\programs\\python\\python38\\lib\\site-packages (from cinemagoer->IMDbPY) (1.4.39)\n",
      "Requirement already satisfied: greenlet!=0.4.17 in c:\\users\\91638\\appdata\\local\\programs\\python\\python38\\lib\\site-packages (from SQLAlchemy->cinemagoer->IMDbPY) (1.1.2)\n",
      "Note: you may need to restart the kernel to use updated packages.\n"
     ]
    },
    {
     "name": "stderr",
     "output_type": "stream",
     "text": [
      "WARNING: You are using pip version 21.1.1; however, version 22.2 is available.\n",
      "You should consider upgrading via the 'c:\\users\\91638\\appdata\\local\\programs\\python\\python38\\python.exe -m pip install --upgrade pip' command.\n"
     ]
    }
   ],
   "source": [
    "pip install IMDbPY"
   ]
  },
  {
   "cell_type": "code",
   "execution_count": 5,
   "id": "0b1b086d",
   "metadata": {
    "scrolled": true
   },
   "outputs": [
    {
     "name": "stdout",
     "output_type": "stream",
     "text": [
      "Collecting openpyxl\n",
      "  Downloading openpyxl-3.0.10-py2.py3-none-any.whl (242 kB)\n",
      "Collecting et-xmlfile\n",
      "  Using cached et_xmlfile-1.1.0-py3-none-any.whl (4.7 kB)\n",
      "Installing collected packages: et-xmlfile, openpyxl\n",
      "Successfully installed et-xmlfile-1.1.0 openpyxl-3.0.10\n",
      "Note: you may need to restart the kernel to use updated packages.\n"
     ]
    },
    {
     "name": "stderr",
     "output_type": "stream",
     "text": [
      "WARNING: You are using pip version 21.1.1; however, version 22.2 is available.\n",
      "You should consider upgrading via the 'c:\\users\\91638\\appdata\\local\\programs\\python\\python38\\python.exe -m pip install --upgrade pip' command.\n"
     ]
    }
   ],
   "source": [
    "pip install openpyxl"
   ]
  },
  {
   "cell_type": "code",
   "execution_count": 1,
   "id": "cb49c153",
   "metadata": {},
   "outputs": [],
   "source": [
    "import pandas as pd"
   ]
  },
  {
   "cell_type": "code",
   "execution_count": 3,
   "id": "56a93ba3",
   "metadata": {},
   "outputs": [],
   "source": [
    "df = pd.read_excel(r\"D:\\Naveen\\Entertainer_PowerBi\\Provided_Dataset\\Entertainer - Basic Info.xlsx\",\"Sheet1\", engine=\"openpyxl\", usecols=[0])"
   ]
  },
  {
   "cell_type": "code",
   "execution_count": 4,
   "id": "feb184b5",
   "metadata": {},
   "outputs": [
    {
     "data": {
      "text/html": [
       "<div>\n",
       "<style scoped>\n",
       "    .dataframe tbody tr th:only-of-type {\n",
       "        vertical-align: middle;\n",
       "    }\n",
       "\n",
       "    .dataframe tbody tr th {\n",
       "        vertical-align: top;\n",
       "    }\n",
       "\n",
       "    .dataframe thead th {\n",
       "        text-align: right;\n",
       "    }\n",
       "</style>\n",
       "<table border=\"1\" class=\"dataframe\">\n",
       "  <thead>\n",
       "    <tr style=\"text-align: right;\">\n",
       "      <th></th>\n",
       "      <th>Entertainer</th>\n",
       "    </tr>\n",
       "  </thead>\n",
       "  <tbody>\n",
       "    <tr>\n",
       "      <th>0</th>\n",
       "      <td>Adele</td>\n",
       "    </tr>\n",
       "    <tr>\n",
       "      <th>1</th>\n",
       "      <td>Angelina Jolie</td>\n",
       "    </tr>\n",
       "    <tr>\n",
       "      <th>2</th>\n",
       "      <td>Aretha Franklin</td>\n",
       "    </tr>\n",
       "    <tr>\n",
       "      <th>3</th>\n",
       "      <td>Bette Davis</td>\n",
       "    </tr>\n",
       "    <tr>\n",
       "      <th>4</th>\n",
       "      <td>Betty White</td>\n",
       "    </tr>\n",
       "    <tr>\n",
       "      <th>...</th>\n",
       "      <td>...</td>\n",
       "    </tr>\n",
       "    <tr>\n",
       "      <th>65</th>\n",
       "      <td>Tom Hanks</td>\n",
       "    </tr>\n",
       "    <tr>\n",
       "      <th>66</th>\n",
       "      <td>Tony Bennett</td>\n",
       "    </tr>\n",
       "    <tr>\n",
       "      <th>67</th>\n",
       "      <td>Wayne Newton</td>\n",
       "    </tr>\n",
       "    <tr>\n",
       "      <th>68</th>\n",
       "      <td>Will Smith</td>\n",
       "    </tr>\n",
       "    <tr>\n",
       "      <th>69</th>\n",
       "      <td>Willie Nelson</td>\n",
       "    </tr>\n",
       "  </tbody>\n",
       "</table>\n",
       "<p>70 rows × 1 columns</p>\n",
       "</div>"
      ],
      "text/plain": [
       "        Entertainer\n",
       "0             Adele\n",
       "1    Angelina Jolie\n",
       "2   Aretha Franklin\n",
       "3       Bette Davis\n",
       "4       Betty White\n",
       "..              ...\n",
       "65        Tom Hanks\n",
       "66     Tony Bennett\n",
       "67     Wayne Newton\n",
       "68       Will Smith\n",
       "69    Willie Nelson\n",
       "\n",
       "[70 rows x 1 columns]"
      ]
     },
     "execution_count": 4,
     "metadata": {},
     "output_type": "execute_result"
    }
   ],
   "source": [
    "df"
   ]
  },
  {
   "cell_type": "code",
   "execution_count": 5,
   "id": "ac6fc7de",
   "metadata": {
    "scrolled": true
   },
   "outputs": [
    {
     "data": {
      "text/plain": [
       "'Bette Davis'"
      ]
     },
     "execution_count": 5,
     "metadata": {},
     "output_type": "execute_result"
    }
   ],
   "source": [
    "df.Entertainer[3]"
   ]
  },
  {
   "cell_type": "code",
   "execution_count": 6,
   "id": "2e4005ca",
   "metadata": {},
   "outputs": [],
   "source": [
    "import imdb\n",
    "mi = imdb.Cinemagoer()"
   ]
  },
  {
   "cell_type": "code",
   "execution_count": 7,
   "id": "df80ca37",
   "metadata": {},
   "outputs": [],
   "source": [
    "persons = mi.search_person(df.Entertainer[3])"
   ]
  },
  {
   "cell_type": "code",
   "execution_count": 10,
   "id": "e581a3e2",
   "metadata": {},
   "outputs": [
    {
     "data": {
      "text/plain": [
       "['name',\n",
       " 'imdbIndex',\n",
       " 'headshot',\n",
       " 'canonical name',\n",
       " 'long imdb name',\n",
       " 'long imdb canonical name',\n",
       " 'full-size headshot']"
      ]
     },
     "execution_count": 10,
     "metadata": {},
     "output_type": "execute_result"
    }
   ],
   "source": [
    "persons[0].keys()"
   ]
  },
  {
   "cell_type": "code",
   "execution_count": 11,
   "id": "d1aef3d7",
   "metadata": {},
   "outputs": [],
   "source": [
    "per = mi.get_person(persons[0].personID)"
   ]
  },
  {
   "cell_type": "code",
   "execution_count": 13,
   "id": "d9ad6ff1",
   "metadata": {},
   "outputs": [
    {
     "data": {
      "text/plain": [
       "['birth info',\n",
       " 'death info',\n",
       " 'headshot',\n",
       " 'akas',\n",
       " 'filmography',\n",
       " 'imdbID',\n",
       " 'name',\n",
       " 'nick names',\n",
       " 'birth name',\n",
       " 'height',\n",
       " 'mini biography',\n",
       " 'trade mark',\n",
       " 'trivia',\n",
       " 'quotes',\n",
       " 'salary history',\n",
       " 'birth date',\n",
       " 'birth notes',\n",
       " 'death date',\n",
       " 'death cause',\n",
       " 'death notes',\n",
       " 'canonical name',\n",
       " 'long imdb name',\n",
       " 'long imdb canonical name',\n",
       " 'full-size headshot']"
      ]
     },
     "execution_count": 13,
     "metadata": {},
     "output_type": "execute_result"
    }
   ],
   "source": [
    "per.keys()"
   ]
  },
  {
   "cell_type": "markdown",
   "id": "f58e1a14",
   "metadata": {},
   "source": [
    "### Creating lists to store the extracted data"
   ]
  },
  {
   "cell_type": "code",
   "execution_count": 5,
   "id": "45333ad3",
   "metadata": {},
   "outputs": [],
   "source": [
    "pics = []\n",
    "num_films_act = []\n",
    "quotes = []\n",
    "height = []"
   ]
  },
  {
   "cell_type": "markdown",
   "id": "a6dc58e8",
   "metadata": {},
   "source": [
    "### Extracting data from IMDB "
   ]
  },
  {
   "cell_type": "code",
   "execution_count": 6,
   "id": "490c577a",
   "metadata": {},
   "outputs": [
    {
     "name": "stdout",
     "output_type": "stream",
     "text": [
      "Starting--> Adele\n",
      "Done-----> Adele\n",
      "    \n",
      "Starting--> Angelina Jolie\n",
      "Done-----> Angelina Jolie\n",
      "    \n",
      "Starting--> Aretha Franklin\n",
      "Done-----> Aretha Franklin\n",
      "    \n",
      "Starting--> Bette Davis\n",
      "Done-----> Bette Davis\n",
      "    \n",
      "Starting--> Betty White\n",
      "Done-----> Betty White\n",
      "    \n",
      "Starting--> Bing Crosby\n",
      "Done-----> Bing Crosby\n",
      "    \n",
      "Starting--> Bob Hope\n",
      "Done-----> Bob Hope\n",
      "    \n",
      "Starting--> Carol Burnett\n",
      "Done-----> Carol Burnett\n",
      "    \n",
      "Starting--> Carole Lombard\n",
      "Done-----> Carole Lombard\n",
      "    \n",
      "Starting--> Carrie Fisher\n",
      "Done-----> Carrie Fisher\n",
      "    \n",
      "Starting--> Cary Grant\n",
      "Done-----> Cary Grant\n",
      "    \n",
      "Starting--> Charlie Chaplin\n",
      "Done-----> Charlie Chaplin\n",
      "    \n",
      "Starting--> Clara Bow\n",
      "Done-----> Clara Bow\n",
      "    \n",
      "Starting--> Clark Gable\n",
      "Done-----> Clark Gable\n",
      "    \n",
      "Starting--> David Letterman\n"
     ]
    },
    {
     "name": "stderr",
     "output_type": "stream",
     "text": [
      "2022-07-29 17:04:02,602 CRITICAL [imdbpy] c:\\users\\91638\\appdata\\local\\programs\\python\\python38\\lib\\site-packages\\imdb\\_exceptions.py:32: IMDbDataAccessError exception raised; args: ({'errcode': None, 'errmsg': 'None', 'url': 'https://www.imdb.com/name/nm0001468/', 'proxy': '', 'exception type': 'IOError', 'original exception': timeout('The read operation timed out')},); kwds: {}\n",
      "Traceback (most recent call last):\n",
      "  File \"c:\\users\\91638\\appdata\\local\\programs\\python\\python38\\lib\\site-packages\\imdb\\parser\\http\\__init__.py\", line 221, in retrieve_unicode\n",
      "    response = uopener.open(url)\n",
      "  File \"c:\\users\\91638\\appdata\\local\\programs\\python\\python38\\lib\\urllib\\request.py\", line 525, in open\n",
      "    response = self._open(req, data)\n",
      "  File \"c:\\users\\91638\\appdata\\local\\programs\\python\\python38\\lib\\urllib\\request.py\", line 542, in _open\n",
      "    result = self._call_chain(self.handle_open, protocol, protocol +\n",
      "  File \"c:\\users\\91638\\appdata\\local\\programs\\python\\python38\\lib\\urllib\\request.py\", line 502, in _call_chain\n",
      "    result = func(*args)\n",
      "  File \"c:\\users\\91638\\appdata\\local\\programs\\python\\python38\\lib\\urllib\\request.py\", line 1397, in https_open\n",
      "    return self.do_open(http.client.HTTPSConnection, req,\n",
      "  File \"c:\\users\\91638\\appdata\\local\\programs\\python\\python38\\lib\\urllib\\request.py\", line 1358, in do_open\n",
      "    r = h.getresponse()\n",
      "  File \"c:\\users\\91638\\appdata\\local\\programs\\python\\python38\\lib\\http\\client.py\", line 1344, in getresponse\n",
      "    response.begin()\n",
      "  File \"c:\\users\\91638\\appdata\\local\\programs\\python\\python38\\lib\\http\\client.py\", line 307, in begin\n",
      "    version, status, reason = self._read_status()\n",
      "  File \"c:\\users\\91638\\appdata\\local\\programs\\python\\python38\\lib\\http\\client.py\", line 268, in _read_status\n",
      "    line = str(self.fp.readline(_MAXLINE + 1), \"iso-8859-1\")\n",
      "  File \"c:\\users\\91638\\appdata\\local\\programs\\python\\python38\\lib\\socket.py\", line 669, in readinto\n",
      "    return self._sock.recv_into(b)\n",
      "  File \"c:\\users\\91638\\appdata\\local\\programs\\python\\python38\\lib\\ssl.py\", line 1241, in recv_into\n",
      "    return self.read(nbytes, buffer)\n",
      "  File \"c:\\users\\91638\\appdata\\local\\programs\\python\\python38\\lib\\ssl.py\", line 1099, in read\n",
      "    return self._sslobj.read(len, buffer)\n",
      "socket.timeout: The read operation timed out\n",
      "2022-07-29 17:04:02,609 CRITICAL [imdbpy] c:\\users\\91638\\appdata\\local\\programs\\python\\python38\\lib\\site-packages\\imdb\\__init__.py:833: caught an exception retrieving or parsing \"main\" info set for mopID \"0001468\" (accessSystem: http)\n",
      "Traceback (most recent call last):\n",
      "  File \"c:\\users\\91638\\appdata\\local\\programs\\python\\python38\\lib\\site-packages\\imdb\\parser\\http\\__init__.py\", line 221, in retrieve_unicode\n",
      "    response = uopener.open(url)\n",
      "  File \"c:\\users\\91638\\appdata\\local\\programs\\python\\python38\\lib\\urllib\\request.py\", line 525, in open\n",
      "    response = self._open(req, data)\n",
      "  File \"c:\\users\\91638\\appdata\\local\\programs\\python\\python38\\lib\\urllib\\request.py\", line 542, in _open\n",
      "    result = self._call_chain(self.handle_open, protocol, protocol +\n",
      "  File \"c:\\users\\91638\\appdata\\local\\programs\\python\\python38\\lib\\urllib\\request.py\", line 502, in _call_chain\n",
      "    result = func(*args)\n",
      "  File \"c:\\users\\91638\\appdata\\local\\programs\\python\\python38\\lib\\urllib\\request.py\", line 1397, in https_open\n",
      "    return self.do_open(http.client.HTTPSConnection, req,\n",
      "  File \"c:\\users\\91638\\appdata\\local\\programs\\python\\python38\\lib\\urllib\\request.py\", line 1358, in do_open\n",
      "    r = h.getresponse()\n",
      "  File \"c:\\users\\91638\\appdata\\local\\programs\\python\\python38\\lib\\http\\client.py\", line 1344, in getresponse\n",
      "    response.begin()\n",
      "  File \"c:\\users\\91638\\appdata\\local\\programs\\python\\python38\\lib\\http\\client.py\", line 307, in begin\n",
      "    version, status, reason = self._read_status()\n",
      "  File \"c:\\users\\91638\\appdata\\local\\programs\\python\\python38\\lib\\http\\client.py\", line 268, in _read_status\n",
      "    line = str(self.fp.readline(_MAXLINE + 1), \"iso-8859-1\")\n",
      "  File \"c:\\users\\91638\\appdata\\local\\programs\\python\\python38\\lib\\socket.py\", line 669, in readinto\n",
      "    return self._sock.recv_into(b)\n",
      "  File \"c:\\users\\91638\\appdata\\local\\programs\\python\\python38\\lib\\ssl.py\", line 1241, in recv_into\n",
      "    return self.read(nbytes, buffer)\n",
      "  File \"c:\\users\\91638\\appdata\\local\\programs\\python\\python38\\lib\\ssl.py\", line 1099, in read\n",
      "    return self._sslobj.read(len, buffer)\n",
      "socket.timeout: The read operation timed out\n",
      "\n",
      "During handling of the above exception, another exception occurred:\n",
      "\n",
      "Traceback (most recent call last):\n",
      "  File \"c:\\users\\91638\\appdata\\local\\programs\\python\\python38\\lib\\site-packages\\imdb\\__init__.py\", line 831, in update\n",
      "    ret = method(mopID)\n",
      "  File \"c:\\users\\91638\\appdata\\local\\programs\\python\\python38\\lib\\site-packages\\imdb\\parser\\http\\__init__.py\", line 684, in get_person_main\n",
      "    cont = self._retrieve(self.urls['person_main'] % personID)\n",
      "  File \"c:\\users\\91638\\appdata\\local\\programs\\python\\python38\\lib\\site-packages\\imdb\\parser\\http\\__init__.py\", line 379, in _retrieve\n",
      "    ret = self.urlOpener.retrieve_unicode(url, size=size)\n",
      "  File \"c:\\users\\91638\\appdata\\local\\programs\\python\\python38\\lib\\site-packages\\imdb\\parser\\http\\__init__.py\", line 249, in retrieve_unicode\n",
      "    raise IMDbDataAccessError(\n",
      "imdb._exceptions.IMDbDataAccessError: {'errcode': None, 'errmsg': 'None', 'url': 'https://www.imdb.com/name/nm0001468/', 'proxy': '', 'exception type': 'IOError', 'original exception': timeout('The read operation timed out')}\n"
     ]
    },
    {
     "name": "stdout",
     "output_type": "stream",
     "text": [
      "Done-----> David Letterman\n",
      "    \n",
      "Starting--> Debbie Reynolds\n",
      "Done-----> Debbie Reynolds\n",
      "    \n",
      "Starting--> Denzel Washington\n",
      "Done-----> Denzel Washington\n",
      "    \n",
      "Starting--> Dick Van Dyke\n",
      "Done-----> Dick Van Dyke\n",
      "    \n",
      "Starting--> Donald Sutherland\n",
      "Done-----> Donald Sutherland\n",
      "    \n",
      "Starting--> Dustin Hoffman\n",
      "Done-----> Dustin Hoffman\n",
      "    \n",
      "Starting--> Ed Sullivan\n",
      "Done-----> Ed Sullivan\n",
      "    \n",
      "Starting--> Eddie Murphy\n",
      "Done-----> Eddie Murphy\n",
      "    \n",
      "Starting--> Elton John\n",
      "Done-----> Elton John\n",
      "    \n",
      "Starting--> Elvis Presley\n",
      "Done-----> Elvis Presley\n",
      "    \n",
      "Starting--> Frank Sinatra\n",
      "Done-----> Frank Sinatra\n",
      "    \n",
      "Starting--> Gene Hackman\n",
      "Done-----> Gene Hackman\n",
      "    \n",
      "Starting--> George Michael\n",
      "Done-----> George Michael\n",
      "    \n",
      "Starting--> Gregory Peck\n",
      "Done-----> Gregory Peck\n",
      "    \n",
      "Starting--> Greta Garbo\n",
      "Done-----> Greta Garbo\n",
      "    \n",
      "Starting--> Humphrey Bogart\n",
      "Done-----> Humphrey Bogart\n",
      "    \n",
      "Starting--> James Dean\n",
      "Done-----> James Dean\n",
      "    \n",
      "Starting--> Jay Leno\n"
     ]
    },
    {
     "name": "stderr",
     "output_type": "stream",
     "text": [
      "2022-07-29 17:06:10,964 CRITICAL [imdbpy] c:\\users\\91638\\appdata\\local\\programs\\python\\python38\\lib\\site-packages\\imdb\\_exceptions.py:32: IMDbDataAccessError exception raised; args: ({'errcode': None, 'errmsg': 'None', 'url': 'https://www.imdb.com/name/nm0005143/', 'proxy': '', 'exception type': 'IOError', 'original exception': timeout('The read operation timed out')},); kwds: {}\n",
      "Traceback (most recent call last):\n",
      "  File \"c:\\users\\91638\\appdata\\local\\programs\\python\\python38\\lib\\site-packages\\imdb\\parser\\http\\__init__.py\", line 221, in retrieve_unicode\n",
      "    response = uopener.open(url)\n",
      "  File \"c:\\users\\91638\\appdata\\local\\programs\\python\\python38\\lib\\urllib\\request.py\", line 525, in open\n",
      "    response = self._open(req, data)\n",
      "  File \"c:\\users\\91638\\appdata\\local\\programs\\python\\python38\\lib\\urllib\\request.py\", line 542, in _open\n",
      "    result = self._call_chain(self.handle_open, protocol, protocol +\n",
      "  File \"c:\\users\\91638\\appdata\\local\\programs\\python\\python38\\lib\\urllib\\request.py\", line 502, in _call_chain\n",
      "    result = func(*args)\n",
      "  File \"c:\\users\\91638\\appdata\\local\\programs\\python\\python38\\lib\\urllib\\request.py\", line 1397, in https_open\n",
      "    return self.do_open(http.client.HTTPSConnection, req,\n",
      "  File \"c:\\users\\91638\\appdata\\local\\programs\\python\\python38\\lib\\urllib\\request.py\", line 1358, in do_open\n",
      "    r = h.getresponse()\n",
      "  File \"c:\\users\\91638\\appdata\\local\\programs\\python\\python38\\lib\\http\\client.py\", line 1344, in getresponse\n",
      "    response.begin()\n",
      "  File \"c:\\users\\91638\\appdata\\local\\programs\\python\\python38\\lib\\http\\client.py\", line 307, in begin\n",
      "    version, status, reason = self._read_status()\n",
      "  File \"c:\\users\\91638\\appdata\\local\\programs\\python\\python38\\lib\\http\\client.py\", line 268, in _read_status\n",
      "    line = str(self.fp.readline(_MAXLINE + 1), \"iso-8859-1\")\n",
      "  File \"c:\\users\\91638\\appdata\\local\\programs\\python\\python38\\lib\\socket.py\", line 669, in readinto\n",
      "    return self._sock.recv_into(b)\n",
      "  File \"c:\\users\\91638\\appdata\\local\\programs\\python\\python38\\lib\\ssl.py\", line 1241, in recv_into\n",
      "    return self.read(nbytes, buffer)\n",
      "  File \"c:\\users\\91638\\appdata\\local\\programs\\python\\python38\\lib\\ssl.py\", line 1099, in read\n",
      "    return self._sslobj.read(len, buffer)\n",
      "socket.timeout: The read operation timed out\n",
      "2022-07-29 17:06:10,967 CRITICAL [imdbpy] c:\\users\\91638\\appdata\\local\\programs\\python\\python38\\lib\\site-packages\\imdb\\__init__.py:833: caught an exception retrieving or parsing \"main\" info set for mopID \"0005143\" (accessSystem: http)\n",
      "Traceback (most recent call last):\n",
      "  File \"c:\\users\\91638\\appdata\\local\\programs\\python\\python38\\lib\\site-packages\\imdb\\parser\\http\\__init__.py\", line 221, in retrieve_unicode\n",
      "    response = uopener.open(url)\n",
      "  File \"c:\\users\\91638\\appdata\\local\\programs\\python\\python38\\lib\\urllib\\request.py\", line 525, in open\n",
      "    response = self._open(req, data)\n",
      "  File \"c:\\users\\91638\\appdata\\local\\programs\\python\\python38\\lib\\urllib\\request.py\", line 542, in _open\n",
      "    result = self._call_chain(self.handle_open, protocol, protocol +\n",
      "  File \"c:\\users\\91638\\appdata\\local\\programs\\python\\python38\\lib\\urllib\\request.py\", line 502, in _call_chain\n",
      "    result = func(*args)\n",
      "  File \"c:\\users\\91638\\appdata\\local\\programs\\python\\python38\\lib\\urllib\\request.py\", line 1397, in https_open\n",
      "    return self.do_open(http.client.HTTPSConnection, req,\n",
      "  File \"c:\\users\\91638\\appdata\\local\\programs\\python\\python38\\lib\\urllib\\request.py\", line 1358, in do_open\n",
      "    r = h.getresponse()\n",
      "  File \"c:\\users\\91638\\appdata\\local\\programs\\python\\python38\\lib\\http\\client.py\", line 1344, in getresponse\n",
      "    response.begin()\n",
      "  File \"c:\\users\\91638\\appdata\\local\\programs\\python\\python38\\lib\\http\\client.py\", line 307, in begin\n",
      "    version, status, reason = self._read_status()\n",
      "  File \"c:\\users\\91638\\appdata\\local\\programs\\python\\python38\\lib\\http\\client.py\", line 268, in _read_status\n",
      "    line = str(self.fp.readline(_MAXLINE + 1), \"iso-8859-1\")\n",
      "  File \"c:\\users\\91638\\appdata\\local\\programs\\python\\python38\\lib\\socket.py\", line 669, in readinto\n",
      "    return self._sock.recv_into(b)\n",
      "  File \"c:\\users\\91638\\appdata\\local\\programs\\python\\python38\\lib\\ssl.py\", line 1241, in recv_into\n",
      "    return self.read(nbytes, buffer)\n",
      "  File \"c:\\users\\91638\\appdata\\local\\programs\\python\\python38\\lib\\ssl.py\", line 1099, in read\n",
      "    return self._sslobj.read(len, buffer)\n",
      "socket.timeout: The read operation timed out\n",
      "\n",
      "During handling of the above exception, another exception occurred:\n",
      "\n",
      "Traceback (most recent call last):\n",
      "  File \"c:\\users\\91638\\appdata\\local\\programs\\python\\python38\\lib\\site-packages\\imdb\\__init__.py\", line 831, in update\n",
      "    ret = method(mopID)\n",
      "  File \"c:\\users\\91638\\appdata\\local\\programs\\python\\python38\\lib\\site-packages\\imdb\\parser\\http\\__init__.py\", line 684, in get_person_main\n",
      "    cont = self._retrieve(self.urls['person_main'] % personID)\n",
      "  File \"c:\\users\\91638\\appdata\\local\\programs\\python\\python38\\lib\\site-packages\\imdb\\parser\\http\\__init__.py\", line 379, in _retrieve\n",
      "    ret = self.urlOpener.retrieve_unicode(url, size=size)\n",
      "  File \"c:\\users\\91638\\appdata\\local\\programs\\python\\python38\\lib\\site-packages\\imdb\\parser\\http\\__init__.py\", line 249, in retrieve_unicode\n",
      "    raise IMDbDataAccessError(\n",
      "imdb._exceptions.IMDbDataAccessError: {'errcode': None, 'errmsg': 'None', 'url': 'https://www.imdb.com/name/nm0005143/', 'proxy': '', 'exception type': 'IOError', 'original exception': timeout('The read operation timed out')}\n"
     ]
    },
    {
     "name": "stdout",
     "output_type": "stream",
     "text": [
      "Done-----> Jay Leno\n",
      "    \n",
      "Starting--> Jennifer Aniston\n",
      "Done-----> Jennifer Aniston\n",
      "    \n",
      "Starting--> Jerry Seinfeld\n",
      "Done-----> Jerry Seinfeld\n",
      "    \n",
      "Starting--> Jimmy Page\n",
      "Done-----> Jimmy Page\n",
      "    \n",
      "Starting--> Jimmy Stewart\n",
      "Done-----> Jimmy Stewart\n",
      "    \n",
      "Starting--> Joan Crawford\n",
      "Done-----> Joan Crawford\n",
      "    \n",
      "Starting--> John Lennon\n",
      "Done-----> John Lennon\n",
      "    \n",
      "Starting--> John Wayne\n",
      "Done-----> John Wayne\n",
      "    \n",
      "Starting--> Johnny Carson\n"
     ]
    },
    {
     "name": "stderr",
     "output_type": "stream",
     "text": [
      "2022-07-29 17:07:49,968 CRITICAL [imdbpy] c:\\users\\91638\\appdata\\local\\programs\\python\\python38\\lib\\site-packages\\imdb\\_exceptions.py:32: IMDbDataAccessError exception raised; args: ({'errcode': None, 'errmsg': 'None', 'url': 'https://www.imdb.com/name/nm0001992/', 'proxy': '', 'exception type': 'IOError', 'original exception': timeout('The read operation timed out')},); kwds: {}\n",
      "Traceback (most recent call last):\n",
      "  File \"c:\\users\\91638\\appdata\\local\\programs\\python\\python38\\lib\\site-packages\\imdb\\parser\\http\\__init__.py\", line 221, in retrieve_unicode\n",
      "    response = uopener.open(url)\n",
      "  File \"c:\\users\\91638\\appdata\\local\\programs\\python\\python38\\lib\\urllib\\request.py\", line 525, in open\n",
      "    response = self._open(req, data)\n",
      "  File \"c:\\users\\91638\\appdata\\local\\programs\\python\\python38\\lib\\urllib\\request.py\", line 542, in _open\n",
      "    result = self._call_chain(self.handle_open, protocol, protocol +\n",
      "  File \"c:\\users\\91638\\appdata\\local\\programs\\python\\python38\\lib\\urllib\\request.py\", line 502, in _call_chain\n",
      "    result = func(*args)\n",
      "  File \"c:\\users\\91638\\appdata\\local\\programs\\python\\python38\\lib\\urllib\\request.py\", line 1397, in https_open\n",
      "    return self.do_open(http.client.HTTPSConnection, req,\n",
      "  File \"c:\\users\\91638\\appdata\\local\\programs\\python\\python38\\lib\\urllib\\request.py\", line 1358, in do_open\n",
      "    r = h.getresponse()\n",
      "  File \"c:\\users\\91638\\appdata\\local\\programs\\python\\python38\\lib\\http\\client.py\", line 1344, in getresponse\n",
      "    response.begin()\n",
      "  File \"c:\\users\\91638\\appdata\\local\\programs\\python\\python38\\lib\\http\\client.py\", line 307, in begin\n",
      "    version, status, reason = self._read_status()\n",
      "  File \"c:\\users\\91638\\appdata\\local\\programs\\python\\python38\\lib\\http\\client.py\", line 268, in _read_status\n",
      "    line = str(self.fp.readline(_MAXLINE + 1), \"iso-8859-1\")\n",
      "  File \"c:\\users\\91638\\appdata\\local\\programs\\python\\python38\\lib\\socket.py\", line 669, in readinto\n",
      "    return self._sock.recv_into(b)\n",
      "  File \"c:\\users\\91638\\appdata\\local\\programs\\python\\python38\\lib\\ssl.py\", line 1241, in recv_into\n",
      "    return self.read(nbytes, buffer)\n",
      "  File \"c:\\users\\91638\\appdata\\local\\programs\\python\\python38\\lib\\ssl.py\", line 1099, in read\n",
      "    return self._sslobj.read(len, buffer)\n",
      "socket.timeout: The read operation timed out\n",
      "2022-07-29 17:07:49,970 CRITICAL [imdbpy] c:\\users\\91638\\appdata\\local\\programs\\python\\python38\\lib\\site-packages\\imdb\\__init__.py:833: caught an exception retrieving or parsing \"main\" info set for mopID \"0001992\" (accessSystem: http)\n",
      "Traceback (most recent call last):\n",
      "  File \"c:\\users\\91638\\appdata\\local\\programs\\python\\python38\\lib\\site-packages\\imdb\\parser\\http\\__init__.py\", line 221, in retrieve_unicode\n",
      "    response = uopener.open(url)\n",
      "  File \"c:\\users\\91638\\appdata\\local\\programs\\python\\python38\\lib\\urllib\\request.py\", line 525, in open\n",
      "    response = self._open(req, data)\n",
      "  File \"c:\\users\\91638\\appdata\\local\\programs\\python\\python38\\lib\\urllib\\request.py\", line 542, in _open\n",
      "    result = self._call_chain(self.handle_open, protocol, protocol +\n",
      "  File \"c:\\users\\91638\\appdata\\local\\programs\\python\\python38\\lib\\urllib\\request.py\", line 502, in _call_chain\n",
      "    result = func(*args)\n",
      "  File \"c:\\users\\91638\\appdata\\local\\programs\\python\\python38\\lib\\urllib\\request.py\", line 1397, in https_open\n",
      "    return self.do_open(http.client.HTTPSConnection, req,\n",
      "  File \"c:\\users\\91638\\appdata\\local\\programs\\python\\python38\\lib\\urllib\\request.py\", line 1358, in do_open\n",
      "    r = h.getresponse()\n",
      "  File \"c:\\users\\91638\\appdata\\local\\programs\\python\\python38\\lib\\http\\client.py\", line 1344, in getresponse\n",
      "    response.begin()\n",
      "  File \"c:\\users\\91638\\appdata\\local\\programs\\python\\python38\\lib\\http\\client.py\", line 307, in begin\n",
      "    version, status, reason = self._read_status()\n",
      "  File \"c:\\users\\91638\\appdata\\local\\programs\\python\\python38\\lib\\http\\client.py\", line 268, in _read_status\n",
      "    line = str(self.fp.readline(_MAXLINE + 1), \"iso-8859-1\")\n",
      "  File \"c:\\users\\91638\\appdata\\local\\programs\\python\\python38\\lib\\socket.py\", line 669, in readinto\n",
      "    return self._sock.recv_into(b)\n",
      "  File \"c:\\users\\91638\\appdata\\local\\programs\\python\\python38\\lib\\ssl.py\", line 1241, in recv_into\n",
      "    return self.read(nbytes, buffer)\n",
      "  File \"c:\\users\\91638\\appdata\\local\\programs\\python\\python38\\lib\\ssl.py\", line 1099, in read\n",
      "    return self._sslobj.read(len, buffer)\n",
      "socket.timeout: The read operation timed out\n",
      "\n",
      "During handling of the above exception, another exception occurred:\n",
      "\n",
      "Traceback (most recent call last):\n",
      "  File \"c:\\users\\91638\\appdata\\local\\programs\\python\\python38\\lib\\site-packages\\imdb\\__init__.py\", line 831, in update\n",
      "    ret = method(mopID)\n",
      "  File \"c:\\users\\91638\\appdata\\local\\programs\\python\\python38\\lib\\site-packages\\imdb\\parser\\http\\__init__.py\", line 684, in get_person_main\n",
      "    cont = self._retrieve(self.urls['person_main'] % personID)\n",
      "  File \"c:\\users\\91638\\appdata\\local\\programs\\python\\python38\\lib\\site-packages\\imdb\\parser\\http\\__init__.py\", line 379, in _retrieve\n",
      "    ret = self.urlOpener.retrieve_unicode(url, size=size)\n",
      "  File \"c:\\users\\91638\\appdata\\local\\programs\\python\\python38\\lib\\site-packages\\imdb\\parser\\http\\__init__.py\", line 249, in retrieve_unicode\n",
      "    raise IMDbDataAccessError(\n",
      "imdb._exceptions.IMDbDataAccessError: {'errcode': None, 'errmsg': 'None', 'url': 'https://www.imdb.com/name/nm0001992/', 'proxy': '', 'exception type': 'IOError', 'original exception': timeout('The read operation timed out')}\n"
     ]
    },
    {
     "name": "stdout",
     "output_type": "stream",
     "text": [
      "Done-----> Johnny Carson\n",
      "    \n",
      "Starting--> Johnny Depp\n",
      "Done-----> Johnny Depp\n",
      "    \n",
      "Starting--> Justin Timberlake\n",
      "Done-----> Justin Timberlake\n",
      "    \n",
      "Starting--> Katherine Hepburn\n",
      "Done-----> Katherine Hepburn\n",
      "    \n",
      "Starting--> Keifer Sutherland\n",
      "Done-----> Keifer Sutherland\n",
      "    \n",
      "Starting--> Kirk Douglas\n",
      "Done-----> Kirk Douglas\n",
      "    \n",
      "Starting--> Lady Gaga\n",
      "Done-----> Lady Gaga\n",
      "    \n",
      "Starting--> Leonard Bernstein\n",
      "Done-----> Leonard Bernstein\n",
      "    \n",
      "Starting--> Leonardo DiCaprio\n",
      "Done-----> Leonardo DiCaprio\n",
      "    \n",
      "Starting--> Louis Armstrong\n",
      "Done-----> Louis Armstrong\n",
      "    \n",
      "Starting--> Madonna\n",
      "Done-----> Madonna\n",
      "    \n",
      "Starting--> Mariah Carey\n",
      "Done-----> Mariah Carey\n",
      "    \n",
      "Starting--> Marlon Brando\n",
      "Done-----> Marlon Brando\n",
      "    \n",
      "Starting--> Mary Tyler Moore\n",
      "Done-----> Mary Tyler Moore\n",
      "    \n",
      "Starting--> Meryl Streep\n",
      "Done-----> Meryl Streep\n",
      "    \n",
      "Starting--> Mick Jagger\n",
      "Done-----> Mick Jagger\n",
      "    \n",
      "Starting--> Morgan Freeman\n",
      "Done-----> Morgan Freeman\n",
      "    \n",
      "Starting--> Oprah Winfrey\n",
      "Done-----> Oprah Winfrey\n",
      "    \n",
      "Starting--> Paul McCartney\n"
     ]
    },
    {
     "name": "stderr",
     "output_type": "stream",
     "text": [
      "2022-07-29 17:10:42,062 CRITICAL [imdbpy] c:\\users\\91638\\appdata\\local\\programs\\python\\python38\\lib\\site-packages\\imdb\\_exceptions.py:32: IMDbDataAccessError exception raised; args: ({'errcode': None, 'errmsg': 'None', 'url': 'https://www.imdb.com/name/nm0005200/', 'proxy': '', 'exception type': 'IOError', 'original exception': timeout('The read operation timed out')},); kwds: {}\n",
      "Traceback (most recent call last):\n",
      "  File \"c:\\users\\91638\\appdata\\local\\programs\\python\\python38\\lib\\site-packages\\imdb\\parser\\http\\__init__.py\", line 221, in retrieve_unicode\n",
      "    response = uopener.open(url)\n",
      "  File \"c:\\users\\91638\\appdata\\local\\programs\\python\\python38\\lib\\urllib\\request.py\", line 525, in open\n",
      "    response = self._open(req, data)\n",
      "  File \"c:\\users\\91638\\appdata\\local\\programs\\python\\python38\\lib\\urllib\\request.py\", line 542, in _open\n",
      "    result = self._call_chain(self.handle_open, protocol, protocol +\n",
      "  File \"c:\\users\\91638\\appdata\\local\\programs\\python\\python38\\lib\\urllib\\request.py\", line 502, in _call_chain\n",
      "    result = func(*args)\n",
      "  File \"c:\\users\\91638\\appdata\\local\\programs\\python\\python38\\lib\\urllib\\request.py\", line 1397, in https_open\n",
      "    return self.do_open(http.client.HTTPSConnection, req,\n",
      "  File \"c:\\users\\91638\\appdata\\local\\programs\\python\\python38\\lib\\urllib\\request.py\", line 1358, in do_open\n",
      "    r = h.getresponse()\n",
      "  File \"c:\\users\\91638\\appdata\\local\\programs\\python\\python38\\lib\\http\\client.py\", line 1344, in getresponse\n",
      "    response.begin()\n",
      "  File \"c:\\users\\91638\\appdata\\local\\programs\\python\\python38\\lib\\http\\client.py\", line 307, in begin\n",
      "    version, status, reason = self._read_status()\n",
      "  File \"c:\\users\\91638\\appdata\\local\\programs\\python\\python38\\lib\\http\\client.py\", line 268, in _read_status\n",
      "    line = str(self.fp.readline(_MAXLINE + 1), \"iso-8859-1\")\n",
      "  File \"c:\\users\\91638\\appdata\\local\\programs\\python\\python38\\lib\\socket.py\", line 669, in readinto\n",
      "    return self._sock.recv_into(b)\n",
      "  File \"c:\\users\\91638\\appdata\\local\\programs\\python\\python38\\lib\\ssl.py\", line 1241, in recv_into\n",
      "    return self.read(nbytes, buffer)\n",
      "  File \"c:\\users\\91638\\appdata\\local\\programs\\python\\python38\\lib\\ssl.py\", line 1099, in read\n",
      "    return self._sslobj.read(len, buffer)\n",
      "socket.timeout: The read operation timed out\n",
      "2022-07-29 17:10:42,064 CRITICAL [imdbpy] c:\\users\\91638\\appdata\\local\\programs\\python\\python38\\lib\\site-packages\\imdb\\__init__.py:833: caught an exception retrieving or parsing \"main\" info set for mopID \"0005200\" (accessSystem: http)\n",
      "Traceback (most recent call last):\n",
      "  File \"c:\\users\\91638\\appdata\\local\\programs\\python\\python38\\lib\\site-packages\\imdb\\parser\\http\\__init__.py\", line 221, in retrieve_unicode\n",
      "    response = uopener.open(url)\n",
      "  File \"c:\\users\\91638\\appdata\\local\\programs\\python\\python38\\lib\\urllib\\request.py\", line 525, in open\n",
      "    response = self._open(req, data)\n",
      "  File \"c:\\users\\91638\\appdata\\local\\programs\\python\\python38\\lib\\urllib\\request.py\", line 542, in _open\n",
      "    result = self._call_chain(self.handle_open, protocol, protocol +\n",
      "  File \"c:\\users\\91638\\appdata\\local\\programs\\python\\python38\\lib\\urllib\\request.py\", line 502, in _call_chain\n",
      "    result = func(*args)\n",
      "  File \"c:\\users\\91638\\appdata\\local\\programs\\python\\python38\\lib\\urllib\\request.py\", line 1397, in https_open\n",
      "    return self.do_open(http.client.HTTPSConnection, req,\n",
      "  File \"c:\\users\\91638\\appdata\\local\\programs\\python\\python38\\lib\\urllib\\request.py\", line 1358, in do_open\n",
      "    r = h.getresponse()\n",
      "  File \"c:\\users\\91638\\appdata\\local\\programs\\python\\python38\\lib\\http\\client.py\", line 1344, in getresponse\n",
      "    response.begin()\n",
      "  File \"c:\\users\\91638\\appdata\\local\\programs\\python\\python38\\lib\\http\\client.py\", line 307, in begin\n",
      "    version, status, reason = self._read_status()\n",
      "  File \"c:\\users\\91638\\appdata\\local\\programs\\python\\python38\\lib\\http\\client.py\", line 268, in _read_status\n",
      "    line = str(self.fp.readline(_MAXLINE + 1), \"iso-8859-1\")\n",
      "  File \"c:\\users\\91638\\appdata\\local\\programs\\python\\python38\\lib\\socket.py\", line 669, in readinto\n",
      "    return self._sock.recv_into(b)\n",
      "  File \"c:\\users\\91638\\appdata\\local\\programs\\python\\python38\\lib\\ssl.py\", line 1241, in recv_into\n",
      "    return self.read(nbytes, buffer)\n",
      "  File \"c:\\users\\91638\\appdata\\local\\programs\\python\\python38\\lib\\ssl.py\", line 1099, in read\n",
      "    return self._sslobj.read(len, buffer)\n",
      "socket.timeout: The read operation timed out\n",
      "\n",
      "During handling of the above exception, another exception occurred:\n",
      "\n",
      "Traceback (most recent call last):\n",
      "  File \"c:\\users\\91638\\appdata\\local\\programs\\python\\python38\\lib\\site-packages\\imdb\\__init__.py\", line 831, in update\n",
      "    ret = method(mopID)\n",
      "  File \"c:\\users\\91638\\appdata\\local\\programs\\python\\python38\\lib\\site-packages\\imdb\\parser\\http\\__init__.py\", line 684, in get_person_main\n",
      "    cont = self._retrieve(self.urls['person_main'] % personID)\n",
      "  File \"c:\\users\\91638\\appdata\\local\\programs\\python\\python38\\lib\\site-packages\\imdb\\parser\\http\\__init__.py\", line 379, in _retrieve\n",
      "    ret = self.urlOpener.retrieve_unicode(url, size=size)\n",
      "  File \"c:\\users\\91638\\appdata\\local\\programs\\python\\python38\\lib\\site-packages\\imdb\\parser\\http\\__init__.py\", line 249, in retrieve_unicode\n",
      "    raise IMDbDataAccessError(\n",
      "imdb._exceptions.IMDbDataAccessError: {'errcode': None, 'errmsg': 'None', 'url': 'https://www.imdb.com/name/nm0005200/', 'proxy': '', 'exception type': 'IOError', 'original exception': timeout('The read operation timed out')}\n"
     ]
    },
    {
     "name": "stdout",
     "output_type": "stream",
     "text": [
      "Done-----> Paul McCartney\n",
      "    \n",
      "Starting--> Paul Newman\n",
      "Done-----> Paul Newman\n",
      "    \n",
      "Starting--> Peter O'Toole\n",
      "Done-----> Peter O'Toole\n",
      "    \n",
      "Starting--> Prince\n",
      "Done-----> Prince\n",
      "    \n",
      "Starting--> Robert Redford\n",
      "Done-----> Robert Redford\n",
      "    \n",
      "Starting--> Sidney Poitier\n",
      "Done-----> Sidney Poitier\n",
      "    \n",
      "Starting--> Sly Stone\n",
      "Done-----> Sly Stone\n",
      "    \n",
      "Starting--> Stevie Wonder\n",
      "Done-----> Stevie Wonder\n",
      "    \n",
      "Starting--> Tom Hanks\n",
      "Done-----> Tom Hanks\n",
      "    \n",
      "Starting--> Tony Bennett\n",
      "Done-----> Tony Bennett\n",
      "    \n",
      "Starting--> Wayne Newton\n",
      "Done-----> Wayne Newton\n",
      "    \n",
      "Starting--> Will Smith\n",
      "Done-----> Will Smith\n",
      "    \n",
      "Starting--> Willie Nelson\n",
      "Done-----> Willie Nelson\n",
      "    \n"
     ]
    }
   ],
   "source": [
    "for i in range(len(df)):\n",
    "    ent_name = df.Entertainer[i]\n",
    "    print(\"Starting-->\", ent_name)\n",
    "    people = mi.search_person(ent_name)\n",
    "    if len(people):\n",
    "        try:\n",
    "            per = mi.get_person(people[0].personID)\n",
    "        except:\n",
    "            per = people[0]\n",
    "        \n",
    "        keys = per.keys()\n",
    "\n",
    "        #Picture of the person\n",
    "        if \"full-size headshot\" in keys:\n",
    "            pics.append(per[\"full-size headshot\"])\n",
    "        elif \"headshot\" in keys:\n",
    "            pics.append(per[\"headshot\"])\n",
    "        else:\n",
    "            pics.append(\"NA\")\n",
    "\n",
    "        #count of flims acted\n",
    "        if \"filmography\" in keys:\n",
    "            if \"actor\" in per[\"filmography\"]:\n",
    "                num_films_act.append(len(per[\"filmography\"][\"actor\"]))\n",
    "            elif \"actress\" in per[\"filmography\"]:\n",
    "                num_films_act.append(len(per[\"filmography\"][\"actress\"]))\n",
    "            else:\n",
    "                num_films_act.append(0)\n",
    "        else:\n",
    "            num_films_act.append(0)\n",
    "\n",
    "        #height \n",
    "        if \"height\" in keys:\n",
    "            height.append(per[\"height\"])\n",
    "        else:\n",
    "            height.append(\"NA\")\n",
    "        \n",
    "        #Quotes\n",
    "        if \"quotes\" in keys:\n",
    "            quotes.append(per[\"quotes\"][0])\n",
    "        else:\n",
    "            quotes.append(\"NA\")\n",
    "    else:\n",
    "        height.append(\"Np\")\n",
    "        pics.append(\"Np\")\n",
    "        num_films_act.append(\"Np\")\n",
    "        quotes.append(\"Np\")\n",
    "     \n",
    "    print(\"Done----->\", ent_name)\n",
    "    print(\"    \") "
   ]
  },
  {
   "cell_type": "code",
   "execution_count": 8,
   "id": "b07a1d95",
   "metadata": {},
   "outputs": [
    {
     "data": {
      "text/plain": [
       "70"
      ]
     },
     "execution_count": 8,
     "metadata": {},
     "output_type": "execute_result"
    }
   ],
   "source": [
    "len(pics)"
   ]
  },
  {
   "cell_type": "code",
   "execution_count": 10,
   "id": "d84ca4c6",
   "metadata": {},
   "outputs": [
    {
     "data": {
      "text/plain": [
       "70"
      ]
     },
     "execution_count": 10,
     "metadata": {},
     "output_type": "execute_result"
    }
   ],
   "source": [
    "len(quotes)"
   ]
  },
  {
   "cell_type": "code",
   "execution_count": 13,
   "id": "e5a13691",
   "metadata": {},
   "outputs": [
    {
     "data": {
      "text/plain": [
       "70"
      ]
     },
     "execution_count": 13,
     "metadata": {},
     "output_type": "execute_result"
    }
   ],
   "source": [
    "len(num_films_act)"
   ]
  },
  {
   "cell_type": "code",
   "execution_count": 15,
   "id": "9d9eed66",
   "metadata": {
    "scrolled": true
   },
   "outputs": [
    {
     "name": "stdout",
     "output_type": "stream",
     "text": [
      "5' 9\" (1.76 m)\n"
     ]
    }
   ],
   "source": [
    "print(height[0])"
   ]
  },
  {
   "cell_type": "markdown",
   "id": "254949f0",
   "metadata": {},
   "source": [
    "### Adding the data to Dataframe"
   ]
  },
  {
   "cell_type": "code",
   "execution_count": 16,
   "id": "b584f9f3",
   "metadata": {},
   "outputs": [],
   "source": [
    "df[\"headshot\"] = pics\n",
    "df[\"height\"] = height\n",
    "df[\"num_films_act\"] = num_films_act\n",
    "df[\"quote\"] = quotes"
   ]
  },
  {
   "cell_type": "code",
   "execution_count": 18,
   "id": "4817f851",
   "metadata": {
    "scrolled": true
   },
   "outputs": [
    {
     "data": {
      "text/html": [
       "<div>\n",
       "<style scoped>\n",
       "    .dataframe tbody tr th:only-of-type {\n",
       "        vertical-align: middle;\n",
       "    }\n",
       "\n",
       "    .dataframe tbody tr th {\n",
       "        vertical-align: top;\n",
       "    }\n",
       "\n",
       "    .dataframe thead th {\n",
       "        text-align: right;\n",
       "    }\n",
       "</style>\n",
       "<table border=\"1\" class=\"dataframe\">\n",
       "  <thead>\n",
       "    <tr style=\"text-align: right;\">\n",
       "      <th></th>\n",
       "      <th>Entertainer</th>\n",
       "      <th>headshot</th>\n",
       "      <th>height</th>\n",
       "      <th>num_films_act</th>\n",
       "      <th>quote</th>\n",
       "    </tr>\n",
       "  </thead>\n",
       "  <tbody>\n",
       "    <tr>\n",
       "      <th>0</th>\n",
       "      <td>Adele</td>\n",
       "      <td>https://m.media-amazon.com/images/M/MV5BMTk1Mz...</td>\n",
       "      <td>5' 9\" (1.76 m)</td>\n",
       "      <td>14</td>\n",
       "      <td>I'm learning about tax at the moment with my a...</td>\n",
       "    </tr>\n",
       "    <tr>\n",
       "      <th>1</th>\n",
       "      <td>Angelina Jolie</td>\n",
       "      <td>https://m.media-amazon.com/images/M/MV5BODg3Mz...</td>\n",
       "      <td>5' 6½\" (1.69 m)</td>\n",
       "      <td>64</td>\n",
       "      <td>Therapy? I don't need that. The roles that I c...</td>\n",
       "    </tr>\n",
       "    <tr>\n",
       "      <th>2</th>\n",
       "      <td>Aretha Franklin</td>\n",
       "      <td>https://m.media-amazon.com/images/M/MV5BNjc1OD...</td>\n",
       "      <td>5' 5\" (1.65 m)</td>\n",
       "      <td>21</td>\n",
       "      <td>Trying to grow up is hurting, you know. You ma...</td>\n",
       "    </tr>\n",
       "    <tr>\n",
       "      <th>3</th>\n",
       "      <td>Bette Davis</td>\n",
       "      <td>https://m.media-amazon.com/images/M/MV5BMTQ2OT...</td>\n",
       "      <td>5' 3\" (1.6 m)</td>\n",
       "      <td>123</td>\n",
       "      <td>[when told by director Robert Aldrich that the...</td>\n",
       "    </tr>\n",
       "    <tr>\n",
       "      <th>4</th>\n",
       "      <td>Betty White</td>\n",
       "      <td>https://m.media-amazon.com/images/M/MV5BMjA2OT...</td>\n",
       "      <td>5' 4\" (1.63 m)</td>\n",
       "      <td>126</td>\n",
       "      <td>[At age 90] I can credit my folks for my genes...</td>\n",
       "    </tr>\n",
       "  </tbody>\n",
       "</table>\n",
       "</div>"
      ],
      "text/plain": [
       "       Entertainer                                           headshot  \\\n",
       "0            Adele  https://m.media-amazon.com/images/M/MV5BMTk1Mz...   \n",
       "1   Angelina Jolie  https://m.media-amazon.com/images/M/MV5BODg3Mz...   \n",
       "2  Aretha Franklin  https://m.media-amazon.com/images/M/MV5BNjc1OD...   \n",
       "3      Bette Davis  https://m.media-amazon.com/images/M/MV5BMTQ2OT...   \n",
       "4      Betty White  https://m.media-amazon.com/images/M/MV5BMjA2OT...   \n",
       "\n",
       "            height  num_films_act  \\\n",
       "0   5' 9\" (1.76 m)             14   \n",
       "1  5' 6½\" (1.69 m)             64   \n",
       "2   5' 5\" (1.65 m)             21   \n",
       "3    5' 3\" (1.6 m)            123   \n",
       "4   5' 4\" (1.63 m)            126   \n",
       "\n",
       "                                               quote  \n",
       "0  I'm learning about tax at the moment with my a...  \n",
       "1  Therapy? I don't need that. The roles that I c...  \n",
       "2  Trying to grow up is hurting, you know. You ma...  \n",
       "3  [when told by director Robert Aldrich that the...  \n",
       "4  [At age 90] I can credit my folks for my genes...  "
      ]
     },
     "execution_count": 18,
     "metadata": {},
     "output_type": "execute_result"
    }
   ],
   "source": [
    "df.head()"
   ]
  },
  {
   "cell_type": "markdown",
   "id": "60d55f82",
   "metadata": {},
   "source": [
    "### EXPORTING TO EXCEL"
   ]
  },
  {
   "cell_type": "code",
   "execution_count": 17,
   "id": "e7a8d22d",
   "metadata": {},
   "outputs": [],
   "source": [
    "df.to_excel(\"Persons_details.xlsx\", sheet_name=\"deatils\", index=False)"
   ]
  },
  {
   "cell_type": "code",
   "execution_count": null,
   "id": "fc9d2a40",
   "metadata": {},
   "outputs": [],
   "source": []
  }
 ],
 "metadata": {
  "kernelspec": {
   "display_name": "Python 3 (ipykernel)",
   "language": "python",
   "name": "python3"
  },
  "language_info": {
   "codemirror_mode": {
    "name": "ipython",
    "version": 3
   },
   "file_extension": ".py",
   "mimetype": "text/x-python",
   "name": "python",
   "nbconvert_exporter": "python",
   "pygments_lexer": "ipython3",
   "version": "3.8.10"
  }
 },
 "nbformat": 4,
 "nbformat_minor": 5
}
