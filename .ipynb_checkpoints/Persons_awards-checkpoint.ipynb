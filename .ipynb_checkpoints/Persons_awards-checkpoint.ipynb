{
 "cells": [
  {
   "cell_type": "code",
   "execution_count": 1,
   "id": "0cf2ac9e",
   "metadata": {},
   "outputs": [],
   "source": [
    "import pandas as pd\n",
    "import imdb\n",
    "mi = imdb.Cinemagoer()"
   ]
  },
  {
   "cell_type": "code",
   "execution_count": 2,
   "id": "33ffa383",
   "metadata": {},
   "outputs": [],
   "source": [
    "df = pd.read_excel(r\"D:\\Naveen\\Entertainer PowerBi\\Entertainer - Basic Info.xlsx\",\"Sheet1\", engine=\"openpyxl\", usecols=[0])"
   ]
  },
  {
   "cell_type": "code",
   "execution_count": 3,
   "id": "e960c59f",
   "metadata": {},
   "outputs": [
    {
     "data": {
      "text/html": [
       "<div>\n",
       "<style scoped>\n",
       "    .dataframe tbody tr th:only-of-type {\n",
       "        vertical-align: middle;\n",
       "    }\n",
       "\n",
       "    .dataframe tbody tr th {\n",
       "        vertical-align: top;\n",
       "    }\n",
       "\n",
       "    .dataframe thead th {\n",
       "        text-align: right;\n",
       "    }\n",
       "</style>\n",
       "<table border=\"1\" class=\"dataframe\">\n",
       "  <thead>\n",
       "    <tr style=\"text-align: right;\">\n",
       "      <th></th>\n",
       "      <th>Entertainer</th>\n",
       "    </tr>\n",
       "  </thead>\n",
       "  <tbody>\n",
       "    <tr>\n",
       "      <th>0</th>\n",
       "      <td>Adele</td>\n",
       "    </tr>\n",
       "    <tr>\n",
       "      <th>1</th>\n",
       "      <td>Angelina Jolie</td>\n",
       "    </tr>\n",
       "    <tr>\n",
       "      <th>2</th>\n",
       "      <td>Aretha Franklin</td>\n",
       "    </tr>\n",
       "    <tr>\n",
       "      <th>3</th>\n",
       "      <td>Bette Davis</td>\n",
       "    </tr>\n",
       "    <tr>\n",
       "      <th>4</th>\n",
       "      <td>Betty White</td>\n",
       "    </tr>\n",
       "  </tbody>\n",
       "</table>\n",
       "</div>"
      ],
      "text/plain": [
       "       Entertainer\n",
       "0            Adele\n",
       "1   Angelina Jolie\n",
       "2  Aretha Franklin\n",
       "3      Bette Davis\n",
       "4      Betty White"
      ]
     },
     "execution_count": 3,
     "metadata": {},
     "output_type": "execute_result"
    }
   ],
   "source": [
    "df.head()"
   ]
  },
  {
   "cell_type": "code",
   "execution_count": 4,
   "id": "682c5026",
   "metadata": {},
   "outputs": [],
   "source": [
    "num_awards = []\n",
    "num_nominations = []\n",
    "num_oscars = []"
   ]
  },
  {
   "cell_type": "code",
   "execution_count": 5,
   "id": "cf480fae",
   "metadata": {},
   "outputs": [
    {
     "name": "stdout",
     "output_type": "stream",
     "text": [
      "Start--->  Adele\n",
      "Done-->  Adele\n",
      "      \n",
      "Start--->  Angelina Jolie\n",
      "Done-->  Angelina Jolie\n",
      "      \n",
      "Start--->  Aretha Franklin\n",
      "Done-->  Aretha Franklin\n",
      "      \n",
      "Start--->  Bette Davis\n",
      "Done-->  Bette Davis\n",
      "      \n",
      "Start--->  Betty White\n",
      "Done-->  Betty White\n",
      "      \n",
      "Start--->  Bing Crosby\n",
      "Done-->  Bing Crosby\n",
      "      \n",
      "Start--->  Bob Hope\n",
      "Done-->  Bob Hope\n",
      "      \n",
      "Start--->  Carol Burnett\n",
      "Done-->  Carol Burnett\n",
      "      \n",
      "Start--->  Carole Lombard\n",
      "Done-->  Carole Lombard\n",
      "      \n",
      "Start--->  Carrie Fisher\n",
      "Done-->  Carrie Fisher\n",
      "      \n",
      "Start--->  Cary Grant\n",
      "Done-->  Cary Grant\n",
      "      \n",
      "Start--->  Charlie Chaplin\n",
      "Done-->  Charlie Chaplin\n",
      "      \n",
      "Start--->  Clara Bow\n",
      "Done-->  Clara Bow\n",
      "      \n",
      "Start--->  Clark Gable\n",
      "Done-->  Clark Gable\n",
      "      \n",
      "Start--->  David Letterman\n",
      "Done-->  David Letterman\n",
      "      \n",
      "Start--->  Debbie Reynolds\n",
      "Done-->  Debbie Reynolds\n",
      "      \n",
      "Start--->  Denzel Washington\n",
      "Done-->  Denzel Washington\n",
      "      \n",
      "Start--->  Dick Van Dyke\n",
      "Done-->  Dick Van Dyke\n",
      "      \n",
      "Start--->  Donald Sutherland\n",
      "Done-->  Donald Sutherland\n",
      "      \n",
      "Start--->  Dustin Hoffman\n",
      "Done-->  Dustin Hoffman\n",
      "      \n",
      "Start--->  Ed Sullivan\n",
      "Done-->  Ed Sullivan\n",
      "      \n",
      "Start--->  Eddie Murphy\n",
      "Done-->  Eddie Murphy\n",
      "      \n",
      "Start--->  Elton John\n",
      "Done-->  Elton John\n",
      "      \n",
      "Start--->  Elvis Presley\n",
      "Done-->  Elvis Presley\n",
      "      \n",
      "Start--->  Frank Sinatra\n",
      "Done-->  Frank Sinatra\n",
      "      \n",
      "Start--->  Gene Hackman\n",
      "Done-->  Gene Hackman\n",
      "      \n",
      "Start--->  George Michael\n",
      "Done-->  George Michael\n",
      "      \n",
      "Start--->  Gregory Peck\n",
      "Done-->  Gregory Peck\n",
      "      \n",
      "Start--->  Greta Garbo\n",
      "Done-->  Greta Garbo\n",
      "      \n",
      "Start--->  Humphrey Bogart\n",
      "Done-->  Humphrey Bogart\n",
      "      \n",
      "Start--->  James Dean\n",
      "Done-->  James Dean\n",
      "      \n",
      "Start--->  Jay Leno\n",
      "Done-->  Jay Leno\n",
      "      \n",
      "Start--->  Jennifer Aniston\n",
      "Done-->  Jennifer Aniston\n",
      "      \n",
      "Start--->  Jerry Seinfeld\n",
      "Done-->  Jerry Seinfeld\n",
      "      \n",
      "Start--->  Jimmy Page\n",
      "Done-->  Jimmy Page\n",
      "      \n",
      "Start--->  Jimmy Stewart\n",
      "Done-->  Jimmy Stewart\n",
      "      \n",
      "Start--->  Joan Crawford\n",
      "Done-->  Joan Crawford\n",
      "      \n",
      "Start--->  John Lennon\n",
      "Done-->  John Lennon\n",
      "      \n",
      "Start--->  John Wayne\n",
      "Done-->  John Wayne\n",
      "      \n",
      "Start--->  Johnny Carson\n",
      "Done-->  Johnny Carson\n",
      "      \n",
      "Start--->  Johnny Depp\n",
      "Done-->  Johnny Depp\n",
      "      \n",
      "Start--->  Justin Timberlake\n",
      "Done-->  Justin Timberlake\n",
      "      \n",
      "Start--->  Katherine Hepburn\n",
      "Done-->  Katherine Hepburn\n",
      "      \n",
      "Start--->  Keifer Sutherland\n",
      "Done-->  Keifer Sutherland\n",
      "      \n",
      "Start--->  Kirk Douglas\n",
      "Done-->  Kirk Douglas\n",
      "      \n",
      "Start--->  Lady Gaga\n",
      "Done-->  Lady Gaga\n",
      "      \n",
      "Start--->  Leonard Bernstein\n",
      "Done-->  Leonard Bernstein\n",
      "      \n",
      "Start--->  Leonardo DiCaprio\n",
      "Done-->  Leonardo DiCaprio\n",
      "      \n",
      "Start--->  Louis Armstrong\n",
      "Done-->  Louis Armstrong\n",
      "      \n",
      "Start--->  Madonna\n",
      "Done-->  Madonna\n",
      "      \n",
      "Start--->  Mariah Carey\n",
      "Done-->  Mariah Carey\n",
      "      \n",
      "Start--->  Marlon Brando\n",
      "Done-->  Marlon Brando\n",
      "      \n",
      "Start--->  Mary Tyler Moore\n",
      "Done-->  Mary Tyler Moore\n",
      "      \n",
      "Start--->  Meryl Streep\n",
      "Done-->  Meryl Streep\n",
      "      \n",
      "Start--->  Mick Jagger\n",
      "Done-->  Mick Jagger\n",
      "      \n",
      "Start--->  Morgan Freeman\n",
      "Done-->  Morgan Freeman\n",
      "      \n",
      "Start--->  Oprah Winfrey\n",
      "Done-->  Oprah Winfrey\n",
      "      \n",
      "Start--->  Paul McCartney\n",
      "Done-->  Paul McCartney\n",
      "      \n",
      "Start--->  Paul Newman\n",
      "Done-->  Paul Newman\n",
      "      \n",
      "Start--->  Peter O'Toole\n",
      "Done-->  Peter O'Toole\n",
      "      \n",
      "Start--->  Prince\n",
      "Done-->  Prince\n",
      "      \n",
      "Start--->  Robert Redford\n",
      "Done-->  Robert Redford\n",
      "      \n",
      "Start--->  Sidney Poitier\n",
      "Done-->  Sidney Poitier\n",
      "      \n",
      "Start--->  Sly Stone\n",
      "Done-->  Sly Stone\n",
      "      \n",
      "Start--->  Stevie Wonder\n",
      "Done-->  Stevie Wonder\n",
      "      \n",
      "Start--->  Tom Hanks\n",
      "Done-->  Tom Hanks\n",
      "      \n",
      "Start--->  Tony Bennett\n",
      "Done-->  Tony Bennett\n",
      "      \n",
      "Start--->  Wayne Newton\n",
      "Done-->  Wayne Newton\n",
      "      \n",
      "Start--->  Will Smith\n",
      "Done-->  Will Smith\n",
      "      \n",
      "Start--->  Willie Nelson\n",
      "Done-->  Willie Nelson\n",
      "      \n"
     ]
    }
   ],
   "source": [
    "for j in range(len(df)):\n",
    "    ent_name = df.Entertainer[j]\n",
    "    print(\"Start---> \",  ent_name)\n",
    "    p = mi.search_person(df.Entertainer[j])\n",
    "    try:\n",
    "        pers = mi.get_person_awards(p[0].personID)\n",
    "        awards = 0\n",
    "        nominations = 0\n",
    "        oscar = 0\n",
    "        if \"awards\" in pers[\"data\"].keys():\n",
    "            for i in range(len(pers[\"data\"][\"awards\"])):\n",
    "                k = pers[\"data\"][\"awards\"][i]\n",
    "                keys = k.keys()\n",
    "                if \"result\" in keys:\n",
    "                    if k[\"result\"] == \"Winner\":\n",
    "                        awards += 1\n",
    "                    if k[\"result\"] == \"Nominee\":\n",
    "                        nominations += 1\n",
    "                else:\n",
    "                    awards += 1\n",
    "                \n",
    "                if \"prize\" in keys:\n",
    "                    if k[\"prize\"] == \"Oscar\":\n",
    "                        oscar += 1\n",
    "                        \n",
    "            num_awards.append(awards)\n",
    "            num_nominations.append(nominations)\n",
    "            num_oscars.append(oscar)\n",
    "        \n",
    "        else:\n",
    "            num_awards.append(\"NA\")\n",
    "            num_nominations.append(\"NA\")\n",
    "            num_oscars.append(\"NA\")\n",
    "        \n",
    "    except:\n",
    "        num_awards.append(\"NA\")\n",
    "        num_nominations.append(\"NA\")\n",
    "        num_oscars.append(\"NA\")\n",
    "    print(\"Done--> \", ent_name)\n",
    "    print(\"      \")"
   ]
  },
  {
   "cell_type": "code",
   "execution_count": 6,
   "id": "1cab8485",
   "metadata": {},
   "outputs": [
    {
     "data": {
      "text/plain": [
       "70"
      ]
     },
     "execution_count": 6,
     "metadata": {},
     "output_type": "execute_result"
    }
   ],
   "source": [
    "len(num_awards)"
   ]
  },
  {
   "cell_type": "code",
   "execution_count": 8,
   "id": "efcd84e9",
   "metadata": {},
   "outputs": [
    {
     "data": {
      "text/plain": [
       "[55, 78, 35, 34, 40]"
      ]
     },
     "execution_count": 8,
     "metadata": {},
     "output_type": "execute_result"
    }
   ],
   "source": [
    "num_awards[:5]"
   ]
  },
  {
   "cell_type": "code",
   "execution_count": 10,
   "id": "9fc0108e",
   "metadata": {},
   "outputs": [
    {
     "data": {
      "text/plain": [
       "[1, 2, 0, 11, 0]"
      ]
     },
     "execution_count": 10,
     "metadata": {},
     "output_type": "execute_result"
    }
   ],
   "source": [
    "num_oscars[:5]"
   ]
  },
  {
   "cell_type": "code",
   "execution_count": 11,
   "id": "4cad202e",
   "metadata": {},
   "outputs": [
    {
     "data": {
      "text/plain": [
       "70"
      ]
     },
     "execution_count": 11,
     "metadata": {},
     "output_type": "execute_result"
    }
   ],
   "source": [
    "len(num_oscars)"
   ]
  },
  {
   "cell_type": "code",
   "execution_count": 13,
   "id": "b1d6f204",
   "metadata": {},
   "outputs": [],
   "source": [
    "df[\"num_nominations\"] = num_nominations\n",
    "df[\"num_awards\"] = num_awards\n",
    "df[\"num_oscars\"] = num_oscars"
   ]
  },
  {
   "cell_type": "code",
   "execution_count": 14,
   "id": "eb378533",
   "metadata": {},
   "outputs": [
    {
     "data": {
      "text/html": [
       "<div>\n",
       "<style scoped>\n",
       "    .dataframe tbody tr th:only-of-type {\n",
       "        vertical-align: middle;\n",
       "    }\n",
       "\n",
       "    .dataframe tbody tr th {\n",
       "        vertical-align: top;\n",
       "    }\n",
       "\n",
       "    .dataframe thead th {\n",
       "        text-align: right;\n",
       "    }\n",
       "</style>\n",
       "<table border=\"1\" class=\"dataframe\">\n",
       "  <thead>\n",
       "    <tr style=\"text-align: right;\">\n",
       "      <th></th>\n",
       "      <th>Entertainer</th>\n",
       "      <th>num_nominations</th>\n",
       "      <th>num_awards</th>\n",
       "      <th>num_oscars</th>\n",
       "    </tr>\n",
       "  </thead>\n",
       "  <tbody>\n",
       "    <tr>\n",
       "      <th>0</th>\n",
       "      <td>Adele</td>\n",
       "      <td>26</td>\n",
       "      <td>55</td>\n",
       "      <td>1</td>\n",
       "    </tr>\n",
       "    <tr>\n",
       "      <th>1</th>\n",
       "      <td>Angelina Jolie</td>\n",
       "      <td>97</td>\n",
       "      <td>78</td>\n",
       "      <td>2</td>\n",
       "    </tr>\n",
       "    <tr>\n",
       "      <th>2</th>\n",
       "      <td>Aretha Franklin</td>\n",
       "      <td>32</td>\n",
       "      <td>35</td>\n",
       "      <td>0</td>\n",
       "    </tr>\n",
       "    <tr>\n",
       "      <th>3</th>\n",
       "      <td>Bette Davis</td>\n",
       "      <td>23</td>\n",
       "      <td>34</td>\n",
       "      <td>11</td>\n",
       "    </tr>\n",
       "    <tr>\n",
       "      <th>4</th>\n",
       "      <td>Betty White</td>\n",
       "      <td>39</td>\n",
       "      <td>40</td>\n",
       "      <td>0</td>\n",
       "    </tr>\n",
       "  </tbody>\n",
       "</table>\n",
       "</div>"
      ],
      "text/plain": [
       "       Entertainer  num_nominations  num_awards  num_oscars\n",
       "0            Adele               26          55           1\n",
       "1   Angelina Jolie               97          78           2\n",
       "2  Aretha Franklin               32          35           0\n",
       "3      Bette Davis               23          34          11\n",
       "4      Betty White               39          40           0"
      ]
     },
     "execution_count": 14,
     "metadata": {},
     "output_type": "execute_result"
    }
   ],
   "source": [
    "df.head()"
   ]
  },
  {
   "cell_type": "code",
   "execution_count": 15,
   "id": "6f9f22f8",
   "metadata": {},
   "outputs": [],
   "source": [
    "df.to_excel(\"person_awards_deatils.xlsx\",index=False)"
   ]
  },
  {
   "cell_type": "code",
   "execution_count": null,
   "id": "bf8b9cfd",
   "metadata": {},
   "outputs": [],
   "source": []
  }
 ],
 "metadata": {
  "kernelspec": {
   "display_name": "Python 3 (ipykernel)",
   "language": "python",
   "name": "python3"
  },
  "language_info": {
   "codemirror_mode": {
    "name": "ipython",
    "version": 3
   },
   "file_extension": ".py",
   "mimetype": "text/x-python",
   "name": "python",
   "nbconvert_exporter": "python",
   "pygments_lexer": "ipython3",
   "version": "3.8.10"
  }
 },
 "nbformat": 4,
 "nbformat_minor": 5
}
