{
 "cells": [
  {
   "cell_type": "code",
   "execution_count": 190,
   "id": "bf1375c9",
   "metadata": {},
   "outputs": [],
   "source": [
    "import imdb\n",
    "mi = imdb.Cinemagoer()\n",
    "import pandas as pd"
   ]
  },
  {
   "cell_type": "code",
   "execution_count": 191,
   "id": "519a8b32",
   "metadata": {},
   "outputs": [],
   "source": [
    "df = pd.read_excel(r\"D:\\Naveen\\Entertainer PowerBi\\Entertainer - Breakthrough Info.xlsx\", \"Sheet1\",engine=\"openpyxl\", usecols=[2])"
   ]
  },
  {
   "cell_type": "code",
   "execution_count": 192,
   "id": "602fba91",
   "metadata": {},
   "outputs": [
    {
     "data": {
      "text/html": [
       "<div>\n",
       "<style scoped>\n",
       "    .dataframe tbody tr th:only-of-type {\n",
       "        vertical-align: middle;\n",
       "    }\n",
       "\n",
       "    .dataframe tbody tr th {\n",
       "        vertical-align: top;\n",
       "    }\n",
       "\n",
       "    .dataframe thead th {\n",
       "        text-align: right;\n",
       "    }\n",
       "</style>\n",
       "<table border=\"1\" class=\"dataframe\">\n",
       "  <thead>\n",
       "    <tr style=\"text-align: right;\">\n",
       "      <th></th>\n",
       "      <th>Breakthrough Name</th>\n",
       "    </tr>\n",
       "  </thead>\n",
       "  <tbody>\n",
       "    <tr>\n",
       "      <th>0</th>\n",
       "      <td>19</td>\n",
       "    </tr>\n",
       "    <tr>\n",
       "      <th>1</th>\n",
       "      <td>Girl, Interrupted</td>\n",
       "    </tr>\n",
       "    <tr>\n",
       "      <th>2</th>\n",
       "      <td>I Never Loved a Man (The Way I Love You)</td>\n",
       "    </tr>\n",
       "    <tr>\n",
       "      <th>3</th>\n",
       "      <td>Of Human Bondage</td>\n",
       "    </tr>\n",
       "    <tr>\n",
       "      <th>4</th>\n",
       "      <td>Life with Elilzabeth</td>\n",
       "    </tr>\n",
       "  </tbody>\n",
       "</table>\n",
       "</div>"
      ],
      "text/plain": [
       "                          Breakthrough Name\n",
       "0                                        19\n",
       "1                         Girl, Interrupted\n",
       "2  I Never Loved a Man (The Way I Love You)\n",
       "3                          Of Human Bondage\n",
       "4                      Life with Elilzabeth"
      ]
     },
     "execution_count": 192,
     "metadata": {},
     "output_type": "execute_result"
    }
   ],
   "source": [
    "df.head()"
   ]
  },
  {
   "cell_type": "markdown",
   "id": "c104f48e",
   "metadata": {},
   "source": [
    "### List for cover images of the movie"
   ]
  },
  {
   "cell_type": "code",
   "execution_count": 174,
   "id": "a8079ef7",
   "metadata": {},
   "outputs": [],
   "source": [
    "cover_img =[]"
   ]
  },
  {
   "cell_type": "markdown",
   "id": "85c2b761",
   "metadata": {},
   "source": [
    "### List for directors namesof the movie"
   ]
  },
  {
   "cell_type": "code",
   "execution_count": 175,
   "id": "da066908",
   "metadata": {},
   "outputs": [],
   "source": [
    "dic = []"
   ]
  },
  {
   "cell_type": "code",
   "execution_count": 176,
   "id": "aff80d51",
   "metadata": {},
   "outputs": [],
   "source": [
    "dic_id = []"
   ]
  },
  {
   "cell_type": "markdown",
   "id": "d1e0b4c7",
   "metadata": {},
   "source": [
    "### Function to get the breakthough movie poster URL,director name, director IMDB ID"
   ]
  },
  {
   "cell_type": "code",
   "execution_count": 177,
   "id": "7afb6630",
   "metadata": {},
   "outputs": [
    {
     "name": "stdout",
     "output_type": "stream",
     "text": [
      "19\n",
      "Done 19\n",
      "Girl, Interrupted\n",
      "Done Girl, Interrupted\n",
      "I Never Loved a Man (The Way I Love You)\n",
      "Done I Never Loved a Man (The Way I Love You)\n",
      "Of Human Bondage\n",
      "Done Of Human Bondage\n",
      "Life with Elilzabeth\n",
      "Done Life with Elilzabeth\n",
      "Several Songs\n",
      "Done Several Songs\n",
      "The Big Broadcast of 1938\n",
      "Done The Big Broadcast of 1938\n",
      "The Garry Moore Show\n",
      "Done The Garry Moore Show\n",
      "Twentieth Century\n",
      "Done Twentieth Century\n",
      "Star Wars\n",
      "Done Star Wars\n",
      "She Done Him Wrong, I'm No Angel\n",
      "Done She Done Him Wrong, I'm No Angel\n",
      "The Tramp\n",
      "Done The Tramp\n",
      "Mantrap\n",
      "Done Mantrap\n",
      "It Happened One Night\n",
      "Done It Happened One Night\n",
      "Late Night with David Letterman\n",
      "Done Late Night with David Letterman\n",
      "Singin' in the Rain\n",
      "Done Singin' in the Rain\n",
      "Glory\n",
      "Done Glory\n",
      "Bye Bye Birdie, The Dick Van Dyke Show\n",
      "Done Bye Bye Birdie, The Dick Van Dyke Show\n",
      "The Dirty Dozen\n",
      "Done The Dirty Dozen\n",
      "The Graduate\n",
      "Done The Graduate\n",
      "Toast of the Town\n",
      "Done Toast of the Town\n",
      "Saturday Night Live\n",
      "Done Saturday Night Live\n",
      "Honky Chateau\n",
      "Done Honky Chateau\n",
      "Heartbreak Hotel\n",
      "Done Heartbreak Hotel\n",
      "I'll Never Smile Again\n",
      "Done I'll Never Smile Again\n",
      "Bonnie and Clyde\n",
      "Done Bonnie and Clyde\n",
      "Wake Me Up Before You Go-Go\n",
      "Done Wake Me Up Before You Go-Go\n",
      "The Keys of the Kingdom\n",
      "Done The Keys of the Kingdom\n",
      "Anna Christie\n",
      "Done Anna Christie\n",
      "The Petrified Forest\n",
      "Done The Petrified Forest\n",
      "East of Eden\n",
      "Done East of Eden\n",
      "The Tonight Show\n",
      "Done The Tonight Show\n",
      "Friends\n",
      "Done Friends\n",
      "Seinfeld\n",
      "Done Seinfeld\n",
      "Led Zeppelin 2\n",
      "Done Led Zeppelin 2\n",
      "You Can't Take it With You\n",
      "Done You Can't Take it With You\n",
      "Our Dancing Daughters\n",
      "Done Our Dancing Daughters\n",
      "I Want to Hold Your Hand\n",
      "Done I Want to Hold Your Hand\n",
      "Stagecoach\n",
      "Done Stagecoach\n",
      "The Tonight Show Starring Johnny Carson\n",
      "Done The Tonight Show Starring Johnny Carson\n",
      "21 Jump Street\n",
      "Done 21 Jump Street\n",
      "No Strings Attached\n",
      "Done No Strings Attached\n",
      "Morning Glory\n",
      "Done Morning Glory\n",
      "24\n",
      "Done 24\n",
      "Champion\n",
      "Done Champion\n",
      "The Fame\n",
      "Done The Fame\n",
      "West Side Story\n",
      "Done West Side Story\n",
      "Titanic\n",
      "Done Titanic\n",
      "Hello, Dolly!\n",
      "Done Hello, Dolly!\n",
      "Like A Virgin\n",
      "Done Like A Virgin\n",
      "Mariah Carey\n",
      "Done Mariah Carey\n",
      "Streetcar Named Desire\n",
      "Done Streetcar Named Desire\n",
      "The Dick Van Dyke Show\n",
      "Done The Dick Van Dyke Show\n",
      "The Deer Hunter\n",
      "Done The Deer Hunter\n",
      "(I Can't Get No) Satisfaction\n",
      "Done (I Can't Get No) Satisfaction\n",
      "Driving Miss Daisy and Glory\n",
      "Done Driving Miss Daisy and Glory\n",
      "The Color Purple\n",
      "Done The Color Purple\n",
      "I Want to Hold Your Hand\n",
      "Done I Want to Hold Your Hand\n",
      "Cat on a Hot Tin Roof\n",
      "Done Cat on a Hot Tin Roof\n",
      "Lawrence of Arabia\n",
      "Done Lawrence of Arabia\n",
      "Prince\n",
      "Done Prince\n",
      "Butch Cassidy and the Sundance Kid\n",
      "Done Butch Cassidy and the Sundance Kid\n",
      "Blackboard Jungle\n",
      "Done Blackboard Jungle\n",
      "Everyday People\n",
      "Done Everyday People\n",
      "Fingertips\n",
      "Done Fingertips\n",
      "Splash\n",
      "Done Splash\n",
      "Because of You\n",
      "Done Because of You\n",
      "Daddy, Don't You Walk So Fast\n",
      "Done Daddy, Don't You Walk So Fast\n",
      "The Fresh Prince of Bel-Air\n",
      "Done The Fresh Prince of Bel-Air\n",
      "Red Headed Stranger\n",
      "Done Red Headed Stranger\n"
     ]
    }
   ],
   "source": [
    "for j in range(len(df)):\n",
    "    movie_name = str(df[\"Breakthrough Name\"][j])\n",
    "    print(movie_name)\n",
    "    movies = mi.search_movie(movie_name)\n",
    "    if len(movies):\n",
    "        for i in range(len(movies)):\n",
    "            movie = mi.get_movie(movies[i].movieID)\n",
    "            title = movie['title']\n",
    "            count1 = 0\n",
    "            count2 = 0\n",
    "            if title == movie_name:\n",
    "                keys = movie.keys()\n",
    "                if \"full-size cover url\" in keys:\n",
    "                    cover_img.append(movie[\"full-size cover url\"])\n",
    "                    count1 +=1 \n",
    "                    \n",
    "                elif \"cover url\" in keys:\n",
    "                    cover_img.append(movie[\"cover url\"])\n",
    "                    count1 +=1\n",
    "                else:\n",
    "                    cover_img.append(\"NA\")\n",
    "                    count1 +=1\n",
    "                \n",
    "                if \"director\" in keys:\n",
    "                    person_file = movie[\"director\"]\n",
    "                    p_id = person_file[0].personID\n",
    "                    dic_id.append(p_id)\n",
    "                    person = mi.get_person(p_id)\n",
    "                    if \"name\" in person.keys():\n",
    "                        dic.append(person[\"name\"])\n",
    "                        count2 += 1\n",
    "                    else:\n",
    "                        dic.append(\"NA\")\n",
    "                else:\n",
    "                    dic.append(\"NA\")\n",
    "                    dic_id.append(\"NA\")\n",
    "                    count2 += 1\n",
    "                    \n",
    "                break\n",
    "                \n",
    "        \n",
    "            if i == len(movies)-1 and count1 ==0:\n",
    "                cover_img.append(\"NM\")\n",
    "            if i == len(movies)-1 and count2 == 0:\n",
    "                dic.append(\"NM\")\n",
    "                dic_id.append(\"NA\")\n",
    "\n",
    "    else:\n",
    "        cover_img.append(\"NML\")\n",
    "        dic.append(\"NML\")\n",
    "        dic_id.append(\"NML\")\n",
    "    print(\"Done\", movie_name)"
   ]
  },
  {
   "cell_type": "code",
   "execution_count": 186,
   "id": "e50134af",
   "metadata": {},
   "outputs": [
    {
     "data": {
      "text/plain": [
       "['https://m.media-amazon.com/images/M/MV5BMTU4ODQzOTYwNl5BMl5BanBnXkFtZTcwMjc4OTg2Nw@@.jpg',\n",
       " 'https://m.media-amazon.com/images/M/MV5BNzdjZDYwM2QtMGNlZS00MGQzLTlhMjctYTU4NWI5MWJlYmQwXkEyXkFqcGdeQXVyMTAwMzUyOTc@.jpg',\n",
       " 'NM',\n",
       " 'https://m.media-amazon.com/images/M/MV5BNDJiOGNkYTUtZDBmMS00MTgyLWIxYjQtODg0YTU2MTQ4ZDMzXkEyXkFqcGdeQXVyMjUxODE0MDY@.jpg',\n",
       " 'NM']"
      ]
     },
     "execution_count": 186,
     "metadata": {},
     "output_type": "execute_result"
    }
   ],
   "source": [
    "cover_img[:5]"
   ]
  },
  {
   "cell_type": "code",
   "execution_count": 179,
   "id": "32fd01ed",
   "metadata": {},
   "outputs": [
    {
     "data": {
      "text/plain": [
       "70"
      ]
     },
     "execution_count": 179,
     "metadata": {},
     "output_type": "execute_result"
    }
   ],
   "source": [
    "len(cover_img)"
   ]
  },
  {
   "cell_type": "code",
   "execution_count": 184,
   "id": "07fb068d",
   "metadata": {},
   "outputs": [
    {
     "data": {
      "text/plain": [
       "['Kazushi Watanabe', 'James Mangold', 'NM', 'John Cromwell', 'NM']"
      ]
     },
     "execution_count": 184,
     "metadata": {},
     "output_type": "execute_result"
    }
   ],
   "source": [
    "dic[:5]"
   ]
  },
  {
   "cell_type": "code",
   "execution_count": 181,
   "id": "df734718",
   "metadata": {},
   "outputs": [
    {
     "data": {
      "text/plain": [
       "70"
      ]
     },
     "execution_count": 181,
     "metadata": {},
     "output_type": "execute_result"
    }
   ],
   "source": [
    "len(dic)"
   ]
  },
  {
   "cell_type": "code",
   "execution_count": 185,
   "id": "4af10d2e",
   "metadata": {},
   "outputs": [
    {
     "data": {
      "text/plain": [
       "['0913820', '0003506', 'NA', '0188669', 'NA']"
      ]
     },
     "execution_count": 185,
     "metadata": {},
     "output_type": "execute_result"
    }
   ],
   "source": [
    "dic_id[:5]"
   ]
  },
  {
   "cell_type": "code",
   "execution_count": 183,
   "id": "906c54bc",
   "metadata": {},
   "outputs": [
    {
     "data": {
      "text/plain": [
       "70"
      ]
     },
     "execution_count": 183,
     "metadata": {},
     "output_type": "execute_result"
    }
   ],
   "source": [
    "len(dic_id)"
   ]
  },
  {
   "cell_type": "code",
   "execution_count": 193,
   "id": "0f719714",
   "metadata": {},
   "outputs": [],
   "source": [
    "df[\"Cover img\"]=cover_img"
   ]
  },
  {
   "cell_type": "code",
   "execution_count": 194,
   "id": "7bd710f6",
   "metadata": {},
   "outputs": [],
   "source": [
    "df[\"director\"] = dic"
   ]
  },
  {
   "cell_type": "code",
   "execution_count": 195,
   "id": "c3a78134",
   "metadata": {},
   "outputs": [
    {
     "data": {
      "text/html": [
       "<div>\n",
       "<style scoped>\n",
       "    .dataframe tbody tr th:only-of-type {\n",
       "        vertical-align: middle;\n",
       "    }\n",
       "\n",
       "    .dataframe tbody tr th {\n",
       "        vertical-align: top;\n",
       "    }\n",
       "\n",
       "    .dataframe thead th {\n",
       "        text-align: right;\n",
       "    }\n",
       "</style>\n",
       "<table border=\"1\" class=\"dataframe\">\n",
       "  <thead>\n",
       "    <tr style=\"text-align: right;\">\n",
       "      <th></th>\n",
       "      <th>Breakthrough Name</th>\n",
       "      <th>Cover img</th>\n",
       "      <th>director</th>\n",
       "    </tr>\n",
       "  </thead>\n",
       "  <tbody>\n",
       "    <tr>\n",
       "      <th>0</th>\n",
       "      <td>19</td>\n",
       "      <td>https://m.media-amazon.com/images/M/MV5BMTU4OD...</td>\n",
       "      <td>Kazushi Watanabe</td>\n",
       "    </tr>\n",
       "    <tr>\n",
       "      <th>1</th>\n",
       "      <td>Girl, Interrupted</td>\n",
       "      <td>https://m.media-amazon.com/images/M/MV5BNzdjZD...</td>\n",
       "      <td>James Mangold</td>\n",
       "    </tr>\n",
       "    <tr>\n",
       "      <th>2</th>\n",
       "      <td>I Never Loved a Man (The Way I Love You)</td>\n",
       "      <td>NM</td>\n",
       "      <td>NM</td>\n",
       "    </tr>\n",
       "    <tr>\n",
       "      <th>3</th>\n",
       "      <td>Of Human Bondage</td>\n",
       "      <td>https://m.media-amazon.com/images/M/MV5BNDJiOG...</td>\n",
       "      <td>John Cromwell</td>\n",
       "    </tr>\n",
       "    <tr>\n",
       "      <th>4</th>\n",
       "      <td>Life with Elilzabeth</td>\n",
       "      <td>NM</td>\n",
       "      <td>NM</td>\n",
       "    </tr>\n",
       "  </tbody>\n",
       "</table>\n",
       "</div>"
      ],
      "text/plain": [
       "                          Breakthrough Name  \\\n",
       "0                                        19   \n",
       "1                         Girl, Interrupted   \n",
       "2  I Never Loved a Man (The Way I Love You)   \n",
       "3                          Of Human Bondage   \n",
       "4                      Life with Elilzabeth   \n",
       "\n",
       "                                           Cover img          director  \n",
       "0  https://m.media-amazon.com/images/M/MV5BMTU4OD...  Kazushi Watanabe  \n",
       "1  https://m.media-amazon.com/images/M/MV5BNzdjZD...     James Mangold  \n",
       "2                                                 NM                NM  \n",
       "3  https://m.media-amazon.com/images/M/MV5BNDJiOG...     John Cromwell  \n",
       "4                                                 NM                NM  "
      ]
     },
     "execution_count": 195,
     "metadata": {},
     "output_type": "execute_result"
    }
   ],
   "source": [
    "df.head()"
   ]
  },
  {
   "cell_type": "code",
   "execution_count": 196,
   "id": "b88b89ee",
   "metadata": {},
   "outputs": [],
   "source": [
    "df.to_excel(\"Breakthrough_with_director.xlsx\",index=False)"
   ]
  },
  {
   "cell_type": "code",
   "execution_count": 203,
   "id": "70314a90",
   "metadata": {},
   "outputs": [],
   "source": [
    "df2 = pd.DataFrame({\"director_id\":dic_id, \"name\":dic})"
   ]
  },
  {
   "cell_type": "code",
   "execution_count": 204,
   "id": "172453b6",
   "metadata": {
    "scrolled": true
   },
   "outputs": [
    {
     "data": {
      "text/html": [
       "<div>\n",
       "<style scoped>\n",
       "    .dataframe tbody tr th:only-of-type {\n",
       "        vertical-align: middle;\n",
       "    }\n",
       "\n",
       "    .dataframe tbody tr th {\n",
       "        vertical-align: top;\n",
       "    }\n",
       "\n",
       "    .dataframe thead th {\n",
       "        text-align: right;\n",
       "    }\n",
       "</style>\n",
       "<table border=\"1\" class=\"dataframe\">\n",
       "  <thead>\n",
       "    <tr style=\"text-align: right;\">\n",
       "      <th></th>\n",
       "      <th>director_id</th>\n",
       "      <th>name</th>\n",
       "    </tr>\n",
       "  </thead>\n",
       "  <tbody>\n",
       "    <tr>\n",
       "      <th>0</th>\n",
       "      <td>0913820</td>\n",
       "      <td>Kazushi Watanabe</td>\n",
       "    </tr>\n",
       "    <tr>\n",
       "      <th>1</th>\n",
       "      <td>0003506</td>\n",
       "      <td>James Mangold</td>\n",
       "    </tr>\n",
       "    <tr>\n",
       "      <th>2</th>\n",
       "      <td>NA</td>\n",
       "      <td>NM</td>\n",
       "    </tr>\n",
       "    <tr>\n",
       "      <th>3</th>\n",
       "      <td>0188669</td>\n",
       "      <td>John Cromwell</td>\n",
       "    </tr>\n",
       "    <tr>\n",
       "      <th>4</th>\n",
       "      <td>NA</td>\n",
       "      <td>NM</td>\n",
       "    </tr>\n",
       "    <tr>\n",
       "      <th>...</th>\n",
       "      <td>...</td>\n",
       "      <td>...</td>\n",
       "    </tr>\n",
       "    <tr>\n",
       "      <th>65</th>\n",
       "      <td>0000165</td>\n",
       "      <td>Ron Howard</td>\n",
       "    </tr>\n",
       "    <tr>\n",
       "      <th>66</th>\n",
       "      <td>0678928</td>\n",
       "      <td>Joseph Pevney</td>\n",
       "    </tr>\n",
       "    <tr>\n",
       "      <th>67</th>\n",
       "      <td>NML</td>\n",
       "      <td>NML</td>\n",
       "    </tr>\n",
       "    <tr>\n",
       "      <th>68</th>\n",
       "      <td>NA</td>\n",
       "      <td>NA</td>\n",
       "    </tr>\n",
       "    <tr>\n",
       "      <th>69</th>\n",
       "      <td>0937074</td>\n",
       "      <td>William D. Wittliff</td>\n",
       "    </tr>\n",
       "  </tbody>\n",
       "</table>\n",
       "<p>70 rows × 2 columns</p>\n",
       "</div>"
      ],
      "text/plain": [
       "   director_id                 name\n",
       "0      0913820     Kazushi Watanabe\n",
       "1      0003506        James Mangold\n",
       "2           NA                   NM\n",
       "3      0188669        John Cromwell\n",
       "4           NA                   NM\n",
       "..         ...                  ...\n",
       "65     0000165           Ron Howard\n",
       "66     0678928        Joseph Pevney\n",
       "67         NML                  NML\n",
       "68          NA                   NA\n",
       "69     0937074  William D. Wittliff\n",
       "\n",
       "[70 rows x 2 columns]"
      ]
     },
     "execution_count": 204,
     "metadata": {},
     "output_type": "execute_result"
    }
   ],
   "source": [
    "df2"
   ]
  },
  {
   "cell_type": "code",
   "execution_count": 214,
   "id": "d1ac3b16",
   "metadata": {},
   "outputs": [],
   "source": [
    "df2.to_excel(\"Director.xlsx\",index=False)"
   ]
  },
  {
   "cell_type": "code",
   "execution_count": null,
   "id": "a7a12b7b",
   "metadata": {},
   "outputs": [],
   "source": []
  },
  {
   "cell_type": "code",
   "execution_count": null,
   "id": "5e5ce361",
   "metadata": {},
   "outputs": [],
   "source": []
  }
 ],
 "metadata": {
  "kernelspec": {
   "display_name": "Python 3 (ipykernel)",
   "language": "python",
   "name": "python3"
  },
  "language_info": {
   "codemirror_mode": {
    "name": "ipython",
    "version": 3
   },
   "file_extension": ".py",
   "mimetype": "text/x-python",
   "name": "python",
   "nbconvert_exporter": "python",
   "pygments_lexer": "ipython3",
   "version": "3.8.10"
  }
 },
 "nbformat": 4,
 "nbformat_minor": 5
}
